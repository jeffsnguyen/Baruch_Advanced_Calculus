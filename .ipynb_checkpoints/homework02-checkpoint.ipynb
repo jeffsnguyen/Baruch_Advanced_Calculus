{
 "cells": [
  {
   "cell_type": "markdown",
   "metadata": {},
   "source": [
    "# Homework 2"
   ]
  },
  {
   "cell_type": "markdown",
   "metadata": {},
   "source": [
    "## Question 7  \n",
    "Use Simpson's rule to compute the cumulative distribution of the standard normal variable with $10^{-12}$ tolerance.  \n",
    "In other words, write a routine that computes $N(t)$ with $tol = 10^{-12}$, where  \n",
    "\\begin{equation}\n",
    "    \\begin{aligned}\n",
    "        N(t) =& \\frac{1}{2} + \\frac{1}{\\sqrt{2\\pi}} \\int_{0}^{t} e^{-\\frac{x^2}{2}} dx  \\\\\n",
    "    \\end{aligned}\n",
    "\\end{equation}\n",
    "  \n",
    "Note that you only need to compute numerical approxmiations of a definite integral over the finite interval $[0,t]$, if $t>0$, or $[t,0]$, if $t<0$.\n",
    "  \n",
    "Compute $N(0.1)$, $N(0.5)$, $N(1)$ with 12 digits accuracy. Start with $n = 4$ intervals and double the number of intervals until the desired accuracy is achieved. Report the approximate values you obtained for each interval until convergence, for each of the two integrals.  "
   ]
  },
  {
   "cell_type": "code",
   "execution_count": 38,
   "metadata": {},
   "outputs": [],
   "source": [
    "import numpy as np\n",
    "import scipy.integrate as spi\n",
    "import scipy.special as sps\n",
    "\n",
    "tolDefault = 10**(-12)\n",
    "\n",
    "# Function to approximate N using Simpsons' Rule on the definite integral\n",
    "def simpsN(a,b,n):\n",
    "    x = np.linspace(a,b,n+1)\n",
    "    y = np.exp(-x**2/2)\n",
    "    approximation = (1/2) + (1/np.sqrt(2*np.pi)) * spi.simps(y,x)\n",
    "    return approximation\n",
    "\n",
    "# Function to calculate actual value\n",
    "def actual(t):\n",
    "    return (1/2) + (1/2) * sps.erf(t/np.sqrt(2))\n",
    "\n",
    "# Function to check tolerance and return result\n",
    "def tolCheck(a,b,n):\n",
    "    while not np.abs(simpsN(a,b,n) - actual(b)) <= tolDefault:\n",
    "        print(f'Approximation of N({b}) at interval n={n} is {simpsN(a,b,n)}')\n",
    "        n+=4\n",
    "    print(f'We have convergence and current tolerance={np.abs(simpsN(a,b,n) - actual(b))} <= {tolDefault}')\n"
   ]
  },
  {
   "cell_type": "code",
   "execution_count": 33,
   "metadata": {},
   "outputs": [
    {
     "name": "stdout",
     "output_type": "stream",
     "text": [
      "Approximation of N(0.1) at interval n=4 is 0.5398278375346958\n",
      "Approximation of N(0.1) at interval n=8 is 0.5398278372931287\n",
      "Approximation of N(0.1) at interval n=12 is 0.539827837280209\n",
      "Approximation of N(0.1) at interval n=16 is 0.5398278372780352\n",
      "We have convergence and current tolerance=4.121147867408581e-13 <= 1e-12\n"
     ]
    }
   ],
   "source": [
    "tolCheck(0,0.1,4)"
   ]
  },
  {
   "cell_type": "code",
   "execution_count": 34,
   "metadata": {},
   "outputs": [
    {
     "name": "stdout",
     "output_type": "stream",
     "text": [
      "Approximation of N(0.5) at interval n=4 is 0.6914631235012294\n",
      "Approximation of N(0.5) at interval n=8 is 0.6914625023982207\n",
      "Approximation of N(0.5) at interval n=12 is 0.6914624693877105\n",
      "Approximation of N(0.5) at interval n=16 is 0.6914624638401763\n",
      "Approximation of N(0.5) at interval n=20 is 0.6914624623249125\n",
      "Approximation of N(0.5) at interval n=24 is 0.6914624617807599\n",
      "Approximation of N(0.5) at interval n=28 is 0.6914624615475253\n",
      "Approximation of N(0.5) at interval n=32 is 0.6914624614343344\n",
      "Approximation of N(0.5) at interval n=36 is 0.6914624613740982\n",
      "Approximation of N(0.5) at interval n=40 is 0.6914624613396776\n",
      "Approximation of N(0.5) at interval n=44 is 0.6914624613188622\n",
      "Approximation of N(0.5) at interval n=48 is 0.6914624613056792\n",
      "Approximation of N(0.5) at interval n=52 is 0.6914624612970033\n",
      "Approximation of N(0.5) at interval n=56 is 0.6914624612911053\n",
      "Approximation of N(0.5) at interval n=60 is 0.6914624612869833\n",
      "Approximation of N(0.5) at interval n=64 is 0.6914624612840322\n",
      "Approximation of N(0.5) at interval n=68 is 0.6914624612818747\n",
      "Approximation of N(0.5) at interval n=72 is 0.6914624612802679\n",
      "Approximation of N(0.5) at interval n=76 is 0.6914624612790514\n",
      "Approximation of N(0.5) at interval n=80 is 0.6914624612781168\n",
      "Approximation of N(0.5) at interval n=84 is 0.6914624612773893\n",
      "Approximation of N(0.5) at interval n=88 is 0.6914624612768161\n",
      "Approximation of N(0.5) at interval n=92 is 0.6914624612763595\n",
      "Approximation of N(0.5) at interval n=96 is 0.6914624612759922\n",
      "Approximation of N(0.5) at interval n=100 is 0.691462461275694\n",
      "Approximation of N(0.5) at interval n=104 is 0.69146246127545\n",
      "Approximation of N(0.5) at interval n=108 is 0.6914624612752487\n",
      "Approximation of N(0.5) at interval n=112 is 0.6914624612750814\n",
      "We have convergence and current tolerance=9.28368493191556e-13 <= 1e-12\n"
     ]
    }
   ],
   "source": [
    "tolCheck(0,0.5,4)"
   ]
  },
  {
   "cell_type": "code",
   "execution_count": 35,
   "metadata": {},
   "outputs": [
    {
     "name": "stdout",
     "output_type": "stream",
     "text": [
      "Approximation of N(1) at interval n=4 is 0.8413554878566492\n",
      "Approximation of N(1) at interval n=8 is 0.8413454061390928\n",
      "Approximation of N(1) at interval n=12 is 0.8413448760477045\n",
      "Approximation of N(1) at interval n=16 is 0.8413447871500785\n",
      "Approximation of N(1) at interval n=20 is 0.8413447628870818\n",
      "Approximation of N(1) at interval n=24 is 0.8413447541771211\n",
      "Approximation of N(1) at interval n=28 is 0.8413447504446312\n",
      "Approximation of N(1) at interval n=32 is 0.8413447486334515\n",
      "Approximation of N(1) at interval n=36 is 0.8413447476696856\n",
      "Approximation of N(1) at interval n=40 is 0.8413447471189976\n",
      "Approximation of N(1) at interval n=44 is 0.8413447467859898\n",
      "Approximation of N(1) at interval n=48 is 0.8413447465750934\n",
      "Approximation of N(1) at interval n=52 is 0.8413447464363029\n",
      "Approximation of N(1) at interval n=56 is 0.841344746341955\n",
      "Approximation of N(1) at interval n=60 is 0.8413447462760144\n",
      "Approximation of N(1) at interval n=64 is 0.8413447462288077\n",
      "Approximation of N(1) at interval n=68 is 0.841344746194296\n",
      "Approximation of N(1) at interval n=72 is 0.8413447461685937\n",
      "Approximation of N(1) at interval n=76 is 0.8413447461491352\n",
      "Approximation of N(1) at interval n=80 is 0.8413447461341854\n",
      "Approximation of N(1) at interval n=84 is 0.841344746122547\n",
      "Approximation of N(1) at interval n=88 is 0.8413447461133772\n",
      "Approximation of N(1) at interval n=92 is 0.8413447461060737\n",
      "Approximation of N(1) at interval n=96 is 0.8413447461001986\n",
      "Approximation of N(1) at interval n=100 is 0.8413447460954295\n",
      "Approximation of N(1) at interval n=104 is 0.8413447460915258\n",
      "Approximation of N(1) at interval n=108 is 0.8413447460883052\n",
      "Approximation of N(1) at interval n=112 is 0.8413447460856298\n",
      "Approximation of N(1) at interval n=116 is 0.841344746083392\n",
      "Approximation of N(1) at interval n=120 is 0.8413447460815089\n",
      "Approximation of N(1) at interval n=124 is 0.841344746079915\n",
      "Approximation of N(1) at interval n=128 is 0.8413447460785589\n",
      "Approximation of N(1) at interval n=132 is 0.8413447460773988\n",
      "Approximation of N(1) at interval n=136 is 0.8413447460764021\n",
      "Approximation of N(1) at interval n=140 is 0.8413447460755417\n",
      "Approximation of N(1) at interval n=144 is 0.8413447460747958\n",
      "Approximation of N(1) at interval n=148 is 0.8413447460741468\n",
      "Approximation of N(1) at interval n=152 is 0.8413447460735797\n",
      "Approximation of N(1) at interval n=156 is 0.8413447460730827\n",
      "Approximation of N(1) at interval n=160 is 0.8413447460726454\n",
      "Approximation of N(1) at interval n=164 is 0.8413447460722596\n",
      "Approximation of N(1) at interval n=168 is 0.8413447460719181\n",
      "Approximation of N(1) at interval n=172 is 0.8413447460716149\n",
      "Approximation of N(1) at interval n=176 is 0.841344746071345\n",
      "Approximation of N(1) at interval n=180 is 0.8413447460711041\n",
      "Approximation of N(1) at interval n=184 is 0.8413447460708885\n",
      "Approximation of N(1) at interval n=188 is 0.8413447460706952\n",
      "Approximation of N(1) at interval n=192 is 0.8413447460705215\n",
      "Approximation of N(1) at interval n=196 is 0.8413447460703647\n",
      "Approximation of N(1) at interval n=200 is 0.8413447460702232\n",
      "Approximation of N(1) at interval n=204 is 0.8413447460700954\n",
      "Approximation of N(1) at interval n=208 is 0.8413447460699794\n",
      "Approximation of N(1) at interval n=212 is 0.841344746069874\n",
      "Approximation of N(1) at interval n=216 is 0.841344746069778\n",
      "Approximation of N(1) at interval n=220 is 0.8413447460696906\n",
      "Approximation of N(1) at interval n=224 is 0.8413447460696108\n",
      "We have convergence and current tolerance=9.949818746690653e-13 <= 1e-12\n"
     ]
    }
   ],
   "source": [
    "tolCheck(0,1,4)"
   ]
  },
  {
   "cell_type": "code",
   "execution_count": null,
   "metadata": {},
   "outputs": [],
   "source": []
  }
 ],
 "metadata": {
  "kernelspec": {
   "display_name": "Python 3",
   "language": "python",
   "name": "python3"
  },
  "language_info": {
   "codemirror_mode": {
    "name": "ipython",
    "version": 3
   },
   "file_extension": ".py",
   "mimetype": "text/x-python",
   "name": "python",
   "nbconvert_exporter": "python",
   "pygments_lexer": "ipython3",
   "version": "3.8.5"
  }
 },
 "nbformat": 4,
 "nbformat_minor": 4
}
