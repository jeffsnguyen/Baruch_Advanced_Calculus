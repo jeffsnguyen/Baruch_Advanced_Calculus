{
 "cells": [
  {
   "cell_type": "markdown",
   "metadata": {},
   "source": [
    "# Homework 2"
   ]
  },
  {
   "cell_type": "markdown",
   "metadata": {},
   "source": [
    "## Question 7  \n",
    "Use Simpson's rule to compute the cumulative distribution of the standard normal variable with $10^{-12}$ tolerance.  \n",
    "In other words, write a routine that computes $N(t)$ with $tol = 10^{-12}$, where  \n",
    "\\begin{equation}\n",
    "    \\begin{aligned}\n",
    "        N(t) =& \\frac{1}{2} + \\frac{1}{\\sqrt{2\\pi}} \\int_{0}^{t} e^{-\\frac{x^2}{2}} dx  \\\\\n",
    "    \\end{aligned}\n",
    "\\end{equation}\n",
    "  \n",
    "Note that you only need to compute numerical approxmiations of a definite integral over the finite interval $[0,t]$, if $t>0$, or $[t,0]$, if $t<0$.\n",
    "  \n",
    "Compute $N(0.1)$, $N(0.5)$, $N(1)$ with 12 digits accuracy. Start with $n = 4$ intervals and double the number of intervals until the desired accuracy is achieved. Report the approximate values you obtained for each interval until convergence, for each of the two integrals.  "
   ]
  },
  {
   "cell_type": "code",
   "execution_count": 5,
   "metadata": {},
   "outputs": [
    {
     "data": {
      "text/plain": [
       "0.03982783753469574"
      ]
     },
     "execution_count": 5,
     "metadata": {},
     "output_type": "execute_result"
    }
   ],
   "source": [
    "import numpy as np\n",
    "\n",
    "# Simpson's rule function to approximate the integral\n",
    "def simpson(f, a, b, N):\n",
    "    dx = (b - a) / N\n",
    "    x = np.linspace(a, b, N+1)\n",
    "    y = f(x)\n",
    "    S = dx/3 * np.sum(y[0:-1:2] + 4*y[1::2] + y[2::2])\n",
    "    return S\n",
    "\n",
    "# N(0.1)\n",
    "simpson(lambda x: (1 / (np.sqrt(2 * np.pi))) * np.exp(-(x**2) / 2), 0, 0.1, 4) + 1/2\n",
    "\n",
    "# N(0.5)\n",
    "simpson(lambda x: (1 / (np.sqrt(2 * np.pi))) * np.exp(-(x**2) / 2), 0, 0.5, 4)\n",
    "\n",
    "# N(1)\n"
   ]
  },
  {
   "cell_type": "code",
   "execution_count": null,
   "metadata": {},
   "outputs": [],
   "source": []
  }
 ],
 "metadata": {
  "kernelspec": {
   "display_name": "Python 3",
   "language": "python",
   "name": "python3"
  },
  "language_info": {
   "codemirror_mode": {
    "name": "ipython",
    "version": 3
   },
   "file_extension": ".py",
   "mimetype": "text/x-python",
   "name": "python",
   "nbconvert_exporter": "python",
   "pygments_lexer": "ipython3",
   "version": "3.8.3"
  }
 },
 "nbformat": 4,
 "nbformat_minor": 4
}
