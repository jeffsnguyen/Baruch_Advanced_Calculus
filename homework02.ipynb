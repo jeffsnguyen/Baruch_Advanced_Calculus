{
 "cells": [
  {
   "cell_type": "markdown",
   "metadata": {},
   "source": [
    "# Homework 2"
   ]
  },
  {
   "cell_type": "markdown",
   "metadata": {},
   "source": [
    "## Question 7  \n",
    "Use Simpson's rule to compute the cumulative distribution of the standard normal variable with $10^{-12}$ tolerance.  \n",
    "In other words, write a routine that computes $N(t)$ with $tol = 10^{-12}$, where  \n",
    "\\begin{equation}\n",
    "    \\begin{aligned}\n",
    "        N(t) =& \\frac{1}{2} + \\frac{1}{\\sqrt{2\\pi}} \\int_{0}^{t} e^{-\\frac{x^2}{2}} dx  \\\\\n",
    "    \\end{aligned}\n",
    "\\end{equation}\n",
    "  \n",
    "Note that you only need to compute numerical approxmiations of a definite integral over the finite interval $[0,t]$, if $t>0$, or $[t,0]$, if $t<0$.\n",
    "  \n",
    "Compute $N(0.1)$, $N(0.5)$, $N(1)$ with 12 digits accuracy. Start with $n = 4$ intervals and double the number of intervals until the desired accuracy is achieved. Report the approximate values you obtained for each interval until convergence, for each of the two integrals.  "
   ]
  },
  {
   "cell_type": "code",
   "execution_count": 20,
   "metadata": {},
   "outputs": [],
   "source": [
    "import numpy as np\n",
    "import scipy.integrate as spi\n",
    "import scipy.special as sps\n",
    "\n",
    "tolDefault = 10**(-12)\n",
    "\n",
    "# Function to approximate N using Simpsons' Rule on the definite integral\n",
    "def simpsN(a,b,n):\n",
    "    x = np.linspace(a,b,n+1)\n",
    "    y = np.exp(-x**2/2)\n",
    "    approximation = (1/2) + (1/np.sqrt(2*np.pi)) * spi.simps(y,x)\n",
    "    return approximation\n",
    "\n",
    "# Function to check tolerance and return result\n",
    "def tolCheck(a,b,n):\n",
    "    prev = simpsN(a,b,n)\n",
    "    while True:\n",
    "        n+=n\n",
    "        current = simpsN(a,b,n)\n",
    "        print(f'Approximation of N({b}) at interval n={n} is {current}')\n",
    "        if abs(current-prev) > tolDefault:\n",
    "            prev = current\n",
    "        else:\n",
    "            print(f'Converged at n={n} and tolerance = {abs(current-prev)} <= {tolDefault}')\n",
    "            break\n"
   ]
  },
  {
   "cell_type": "code",
   "execution_count": 21,
   "metadata": {},
   "outputs": [
    {
     "name": "stdout",
     "output_type": "stream",
     "text": [
      "Approximation of N(0.1) at interval n=8 is 0.5398278372931287\n",
      "Approximation of N(0.1) at interval n=16 is 0.5398278372780352\n",
      "Approximation of N(0.1) at interval n=32 is 0.5398278372770918\n",
      "Converged at n=32 and tolerance = 9.433565040239955e-13 <= 1e-12\n"
     ]
    }
   ],
   "source": [
    "tolCheck(0,0.1,4)"
   ]
  },
  {
   "cell_type": "code",
   "execution_count": 22,
   "metadata": {},
   "outputs": [
    {
     "name": "stdout",
     "output_type": "stream",
     "text": [
      "Approximation of N(0.5) at interval n=8 is 0.6914625023982207\n",
      "Approximation of N(0.5) at interval n=16 is 0.6914624638401763\n",
      "Approximation of N(0.5) at interval n=32 is 0.6914624614343344\n",
      "Approximation of N(0.5) at interval n=64 is 0.6914624612840322\n",
      "Approximation of N(0.5) at interval n=128 is 0.6914624612746393\n",
      "Approximation of N(0.5) at interval n=256 is 0.6914624612740523\n",
      "Converged at n=256 and tolerance = 5.869749131193203e-13 <= 1e-12\n"
     ]
    }
   ],
   "source": [
    "tolCheck(0,0.5,4)"
   ]
  },
  {
   "cell_type": "code",
   "execution_count": 23,
   "metadata": {},
   "outputs": [
    {
     "name": "stdout",
     "output_type": "stream",
     "text": [
      "Approximation of N(1) at interval n=8 is 0.8413454061390928\n",
      "Approximation of N(1) at interval n=16 is 0.8413447871500785\n",
      "Approximation of N(1) at interval n=32 is 0.8413447486334515\n",
      "Approximation of N(1) at interval n=64 is 0.8413447462288077\n",
      "Approximation of N(1) at interval n=128 is 0.8413447460785589\n",
      "Approximation of N(1) at interval n=256 is 0.841344746069169\n",
      "Approximation of N(1) at interval n=512 is 0.8413447460685821\n",
      "Converged at n=512 and tolerance = 5.868638908168577e-13 <= 1e-12\n"
     ]
    }
   ],
   "source": [
    "tolCheck(0,1,4)"
   ]
  },
  {
   "cell_type": "code",
   "execution_count": 2,
   "metadata": {},
   "outputs": [
    {
     "data": {
      "text/plain": [
       "101.96037914509604"
      ]
     },
     "execution_count": 2,
     "metadata": {},
     "output_type": "execute_result"
    }
   ],
   "source": [
    "import numpy as np\n",
    "\n",
    "def rate(t):\n",
    "    return 0.05 + 0.005*np.sqrt(1+t)\n",
    "\n",
    "3.5*np.exp(-rate(6/12)*6/12) + 3.5*np.exp(-rate(12/12)*12/12) + 3.5*np.exp(-rate(18/12)*18/12) + 103.5*np.exp(-rate(24/12)*24/12)"
   ]
  },
  {
   "cell_type": "code",
   "execution_count": null,
   "metadata": {},
   "outputs": [],
   "source": []
  },
  {
   "cell_type": "code",
   "execution_count": 1,
   "metadata": {},
   "outputs": [
    {
     "data": {
      "text/plain": [
       "104.57369352934171"
      ]
     },
     "execution_count": 1,
     "metadata": {},
     "output_type": "execute_result"
    }
   ],
   "source": [
    "import numpy as np\n",
    "\n",
    "def rate(t):\n",
    "    return 0.05 + 0.005*np.sqrt(1+t)\n",
    "\n",
    "3.5*np.exp(-rate(1/12)*1/12) + 3.5*np.exp(-rate(7/12)*7/12) + 3.5*np.exp(-rate(13/12)*13/12) + 103.5*np.exp(-rate(19/12)*19/12)"
   ]
  },
  {
   "cell_type": "code",
   "execution_count": 3,
   "metadata": {},
   "outputs": [
    {
     "data": {
      "text/plain": [
       "103.4400823682068"
      ]
     },
     "execution_count": 3,
     "metadata": {},
     "output_type": "execute_result"
    }
   ],
   "source": [
    "import numpy as np\n",
    "\n",
    "def rate(t):\n",
    "    return 0.02 + t/(200-t)\n",
    "\n",
    "4*np.exp(-rate(7/12)*7/12) + 104*np.exp(-rate(19/12)*19/12)"
   ]
  },
  {
   "cell_type": "code",
   "execution_count": 4,
   "metadata": {},
   "outputs": [
    {
     "data": {
      "text/plain": [
       "103.49553897841847"
      ]
     },
     "execution_count": 4,
     "metadata": {},
     "output_type": "execute_result"
    }
   ],
   "source": [
    "import numpy as np\n",
    "\n",
    "def rate(t):\n",
    "    return 0.02 + t/(200-t)\n",
    "\n",
    "2*np.exp(-rate(1/12)*1/12) + 2*np.exp(-rate(7/12)*7/12) + 2*np.exp(-rate(13/12)*13/12) + 102*np.exp(-rate(19/12)*19/12)"
   ]
  },
  {
   "cell_type": "code",
   "execution_count": 5,
   "metadata": {},
   "outputs": [
    {
     "data": {
      "text/plain": [
       "102.51891029812721"
      ]
     },
     "execution_count": 5,
     "metadata": {},
     "output_type": "execute_result"
    }
   ],
   "source": [
    "import numpy as np\n",
    "\n",
    "def rate(t):\n",
    "    return 0.02 + t/(200-t)\n",
    "6\n",
    "1*np.exp(-rate(1/12)*1/12) + 1*np.exp(-rate(4/12)*4/12) + 1*np.exp(-rate(7/12)*7/12) + 1*np.exp(-rate(10/12)*10/12) + 1*np.exp(-rate(13/12)*13/12) + 1*np.exp(-rate(16/12)*16/12) + 101*np.exp(-rate(19/12)*19/12)"
   ]
  },
  {
   "cell_type": "code",
   "execution_count": 10,
   "metadata": {},
   "outputs": [
    {
     "data": {
      "text/plain": [
       "103.95480776327796"
      ]
     },
     "execution_count": 10,
     "metadata": {},
     "output_type": "execute_result"
    }
   ],
   "source": [
    "import numpy as np\n",
    "\n",
    "2*np.exp(-0.025*1/12) + 2*np.exp(-0.025*7/12) + 2*np.exp(-0.025*13/12) + 102*np.exp(-0.025*19/12)"
   ]
  },
  {
   "cell_type": "code",
   "execution_count": 12,
   "metadata": {},
   "outputs": [
    {
     "data": {
      "text/plain": [
       "1.526211573003021"
      ]
     },
     "execution_count": 12,
     "metadata": {},
     "output_type": "execute_result"
    }
   ],
   "source": [
    "import numpy as np\n",
    "\n",
    "(2*(1/12)*np.exp(-0.025*(1/12)) + 2*(7/12)*np.exp(-0.025*(7/12)) +2*(13/12)*np.exp(-0.025*(13/12)) +102*(19/12)*np.exp(-0.025*(19/12))) / (2*np.exp(-0.025*1/12) + 2*np.exp(-0.025*7/12) + 2*np.exp(-0.025*13/12) + 102*np.exp(-0.025*19/12))"
   ]
  },
  {
   "cell_type": "code",
   "execution_count": 13,
   "metadata": {},
   "outputs": [
    {
     "data": {
      "text/plain": [
       "2.3928986820079756"
      ]
     },
     "execution_count": 13,
     "metadata": {},
     "output_type": "execute_result"
    }
   ],
   "source": [
    "import numpy as np\n",
    "\n",
    "(2*((1/12)**2)*np.exp(-0.025*(1/12)) + 2*((7/12)**2)*np.exp(-0.025*(7/12)) +2*((13/12)**2)*np.exp(-0.025*(13/12)) +102*((19/12)**2)*np.exp(-0.025*(19/12))) / (2*np.exp(-0.025*1/12) + 2*np.exp(-0.025*7/12) + 2*np.exp(-0.025*13/12) + 102*np.exp(-0.025*19/12))"
   ]
  },
  {
   "cell_type": "code",
   "execution_count": null,
   "metadata": {},
   "outputs": [],
   "source": []
  },
  {
   "cell_type": "code",
   "execution_count": 16,
   "metadata": {},
   "outputs": [
    {
     "name": "stdout",
     "output_type": "stream",
     "text": [
      "Approximation of N(2.0) at interval n=4 is 0.9139813206572868\n",
      "Approximation of N(2.0) at interval n=6 is 0.9140370531035887\n",
      "Approximation of N(2.0) at interval n=8 is 0.9140399686559925\n",
      "Approximation of N(2.0) at interval n=10 is 0.9140407461986251\n",
      "Approximation of N(2.0) at interval n=12 is 0.9140410410163435\n",
      "Approximation of N(2.0) at interval n=14 is 0.914041167950291\n",
      "Approximation of N(2.0) at interval n=16 is 0.9140412295258312\n",
      "Approximation of N(2.0) at interval n=18 is 0.9140412622710605\n",
      "Approximation of N(2.0) at interval n=20 is 0.9140412809698873\n",
      "Approximation of N(2.0) at interval n=22 is 0.9140412922712522\n",
      "Approximation of N(2.0) at interval n=24 is 0.9140412994253123\n",
      "Converged at n=24 and tolerance = 7.1540601220831945e-09 <= 1e-08\n"
     ]
    }
   ],
   "source": [
    "import numpy as np\n",
    "import scipy.integrate as spi\n",
    "import scipy.special as sps\n",
    "\n",
    "tolDefault = 10**(-8)\n",
    "\n",
    "# Function to approximate N using Simpsons' Rule on the definite integral\n",
    "def simpsN(a,b,n):\n",
    "    x = np.linspace(a,b,n+1)\n",
    "    y = 0.05 / (1 + 2 * np.exp(-(1+x)**2))\n",
    "    approximation = np.exp(-spi.simps(y,x))\n",
    "    return approximation\n",
    "\n",
    "# Function to check tolerance and return result\n",
    "def tolCheck(a,b,n):\n",
    "    prev = simpsN(a,b,n)\n",
    "    while True:\n",
    "        n+=2\n",
    "        current = simpsN(a,b,n)\n",
    "        print(f'Approximation of N({b}) at interval n={n} is {current}')\n",
    "        if abs(current-prev) > tolDefault:\n",
    "            prev = current\n",
    "        else:\n",
    "            print(f'Converged at n={n} and tolerance = {abs(current-prev)} <= {tolDefault}')\n",
    "            break\n",
    "\n",
    "tolCheck(0,24/12,2)\n"
   ]
  },
  {
   "cell_type": "code",
   "execution_count": 17,
   "metadata": {},
   "outputs": [
    {
     "data": {
      "text/plain": [
       "100.88981478109167"
      ]
     },
     "execution_count": 17,
     "metadata": {},
     "output_type": "execute_result"
    }
   ],
   "source": [
    "2.5*(0.9825690126772382 + 0.9605168185372089 + 0.9371468047844181) + 102.5*0.9140412994253123"
   ]
  },
  {
   "cell_type": "code",
   "execution_count": null,
   "metadata": {},
   "outputs": [],
   "source": []
  }
 ],
 "metadata": {
  "kernelspec": {
   "display_name": "Python 3",
   "language": "python",
   "name": "python3"
  },
  "language_info": {
   "codemirror_mode": {
    "name": "ipython",
    "version": 3
   },
   "file_extension": ".py",
   "mimetype": "text/x-python",
   "name": "python",
   "nbconvert_exporter": "python",
   "pygments_lexer": "ipython3",
   "version": "3.8.8"
  }
 },
 "nbformat": 4,
 "nbformat_minor": 4
}
