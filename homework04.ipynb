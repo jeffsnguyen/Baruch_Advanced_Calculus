{
 "cells": [
  {
   "cell_type": "markdown",
   "metadata": {},
   "source": [
    "# Homework 4"
   ]
  },
  {
   "cell_type": "markdown",
   "metadata": {},
   "source": [
    "## Question 4  \n",
    "Consider a three months ATM call with strike 40 on an underlying asset with spot price 40 following a lognormal distribution with volatility 20% and paying dividends continuously at 1%. Assume the risk–free interest rate is constant at 5%.\n",
    "  \n",
    "(i) Compute the Black–Scholes value of the call using the routine from Table 3.1 for computing approximate values for cumulative distributions of the standard normal variable;  \n",
    "(ii) Compute the Black–Scholes value of the call using Simpson’s rule with tolerance 10−12 to compute approximate values for cumulative distributions of the standard normal variable.  \n"
   ]
  },
  {
   "cell_type": "markdown",
   "metadata": {},
   "source": [
    "### (i) Compute the Black–Scholes value of the call using the routine from Table 3.1 for computing approximate values for cumulative distributions of the standard normal variable"
   ]
  },
  {
   "cell_type": "code",
   "execution_count": 17,
   "metadata": {},
   "outputs": [
    {
     "name": "stdout",
     "output_type": "stream",
     "text": [
      "C_0 = 1.789614929076117\n"
     ]
    }
   ],
   "source": [
    "import numpy as np\n",
    "import scipy.stats as spstats\n",
    "\n",
    "# Return Call value at time 0 using Black Scholes\n",
    "def C0_BS(S_0, K, r, q, T, sigma):\n",
    "    d1 = (np.log(S_0/K) + (r - q + 0.5*(sigma**2)) * T) / (sigma*np.sqrt(T))\n",
    "    d2 = d1 - sigma*np.sqrt(T)\n",
    "    N_d1 = spstats.norm.cdf(d1,0,1)\n",
    "    N_d2 = spstats.norm.cdf(d2,0,1)\n",
    "    return np.exp(-r*T) * ((S_0 * np.exp((r-q)*T) * N_d1) - (K * N_d2))\n",
    "\n",
    "# Given values\n",
    "S_0 = 40\n",
    "K = 40\n",
    "r = .05\n",
    "q = .01\n",
    "T = 3/12\n",
    "sigma = .20\n",
    "\n",
    "print(f'C_0 = {C0_BS(S_0, K, r, q, T, sigma)}')\n"
   ]
  },
  {
   "cell_type": "markdown",
   "metadata": {},
   "source": [
    "### (ii) Compute the Black–Scholes value of the call using Simpson’s rule with tolerance 10−12 to compute approximate values for cumulative distributions of the standard normal variable.  "
   ]
  },
  {
   "cell_type": "code",
   "execution_count": 19,
   "metadata": {},
   "outputs": [
    {
     "name": "stdout",
     "output_type": "stream",
     "text": [
      "Approximation of N(0.15) at interval n=8 is 0.5596176924912438\n",
      "Approximation of N(0.15) at interval n=16 is 0.5596176923778039\n",
      "Approximation of N(0.15) at interval n=32 is 0.5596176923707151\n",
      "Approximation of N(0.15) at interval n=64 is 0.559617692370272\n",
      "Converged at n=64 and tolerance = 4.430900091279e-13 <= 1e-12\n",
      "Approximation of N(0.04999999999999999) at interval n=8 is 0.5199388058388787\n",
      "Approximation of N(0.04999999999999999) at interval n=16 is 0.5199388058384041\n",
      "Converged at n=16 and tolerance = 4.746203430272544e-13 <= 1e-12\n",
      "C_0 = 1.7896149290760468\n"
     ]
    }
   ],
   "source": [
    "import numpy as np\n",
    "import scipy.integrate as spi\n",
    "import scipy.special as sps\n",
    "\n",
    "# Function to approximate N using Simpsons' Rule on the definite integral\n",
    "def simpsN(a,b,n):\n",
    "    x = np.linspace(a,b,n+1)\n",
    "    y = np.exp(-x**2/2)\n",
    "    approximation = (1/2) + (1/np.sqrt(2*np.pi)) * spi.simps(y,x)\n",
    "    return approximation\n",
    "\n",
    "# Function to check tolerance and return result\n",
    "def tolCheck(a,b,n):\n",
    "    prev = simpsN(a,b,n)\n",
    "    while True:\n",
    "        n+=n\n",
    "        current = simpsN(a,b,n)\n",
    "        print(f'Approximation of N({b}) at interval n={n} is {current}')\n",
    "        if abs(current-prev) > tolDefault:\n",
    "            prev = current\n",
    "        else:\n",
    "            print(f'Converged at n={n} and tolerance = {abs(current-prev)} <= {tolDefault}')\n",
    "            break\n",
    "    \n",
    "    return current\n",
    "            \n",
    "# Function to calculate Call value using Black Scholes with Taylor approx for N()\n",
    "# Return Call value at time 0 using Black Scholes\n",
    "def C0_BS(S_0, K, r, q, T, sigma, n):\n",
    "    d1 = (np.log(S_0/K) + (r - q + 0.5*(sigma**2)) * T) / (sigma*np.sqrt(T))\n",
    "    d2 = d1 - sigma*np.sqrt(T)\n",
    "    N_d1 = tolCheck(0,d1,n)\n",
    "    N_d2 = tolCheck(0,d2,n)\n",
    "    return np.exp(-r*T) * ((S_0 * np.exp((r-q)*T) * N_d1) - (K * N_d2))\n",
    "\n",
    "# Given values\n",
    "S_0 = 40\n",
    "K = 40\n",
    "r = .05\n",
    "q = .01\n",
    "T = 3/12\n",
    "sigma = .20\n",
    "\n",
    "n = 4 # starting interval value\n",
    "tolDefault = 10**(-12)  # Tolerance level\n",
    "\n",
    "print(f'C_0 = {C0_BS(S_0, K, r, q, T, sigma, n)}')\n"
   ]
  }
 ],
 "metadata": {
  "kernelspec": {
   "display_name": "Python 3",
   "language": "python",
   "name": "python3"
  },
  "language_info": {
   "codemirror_mode": {
    "name": "ipython",
    "version": 3
   },
   "file_extension": ".py",
   "mimetype": "text/x-python",
   "name": "python",
   "nbconvert_exporter": "python",
   "pygments_lexer": "ipython3",
   "version": "3.8.8"
  }
 },
 "nbformat": 4,
 "nbformat_minor": 4
}
