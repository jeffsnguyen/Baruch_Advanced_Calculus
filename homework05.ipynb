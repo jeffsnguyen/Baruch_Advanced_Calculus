{
 "cells": [
  {
   "cell_type": "markdown",
   "metadata": {},
   "source": [
    "# Homework 5"
   ]
  },
  {
   "cell_type": "markdown",
   "metadata": {},
   "source": [
    "## Question 1  \n",
    "A six months at–the–money call on an underlying asset with spot price 30 paying dividends continuously at a 1% rate is worth 2.5. Assume that the risk free interest rate is constant at 3%. Use Newton’s method with initial guess 0.5 to compute the corresponding implied volatility with six decimal digits accuracy.  \n",
    "\n"
   ]
  },
  {
   "cell_type": "code",
   "execution_count": 9,
   "metadata": {},
   "outputs": [
    {
     "name": "stdout",
     "output_type": "stream",
     "text": [
      "Approximation of sigma_1 is 0.2929958326338501\n",
      "Approximation of sigma_2 is 0.2772911639225877\n",
      "Approximation of sigma_3 is 0.2726465253606349\n",
      "Approximation of sigma_4 is 0.2712819376896849\n",
      "Approximation of sigma_5 is 0.27088174885134203\n",
      "Approximation of sigma_6 is 0.27076444732908866\n",
      "Approximation of sigma_7 is 0.27073006962093976\n",
      "Approximation of sigma_8 is 0.27071999494540777\n",
      "Approximation of sigma_9 is 0.2707170425153714\n",
      "Converged at sigma_10 = 0.2707161772954289 and tolerance = 8.65219942469686e-07 <= 1e-06\n"
     ]
    }
   ],
   "source": [
    "import numpy as np\n",
    "import scipy.stats as spstats\n",
    "#######################\n",
    "\n",
    "#######################\n",
    "# Return f(sigma_k) value\n",
    "def fn(S_0, K, r, q, T, sigma, C_m):\n",
    "    d1 = (np.log(S_0/K) + (r - q + 0.5*(sigma**2)) * T) / (sigma*np.sqrt(T))\n",
    "    d2 = d1 - sigma*np.sqrt(T)\n",
    "    N_d1 = spstats.norm.cdf(d1,0,1)\n",
    "    N_d2 = spstats.norm.cdf(d2,0,1)\n",
    "    \n",
    "    return S_0*N_d1 - K*np.exp(-r*T)*N_d2 - C_m\n",
    "\n",
    "#######################\n",
    "# Return vega(sigma_k) value\n",
    "def vegaFunc(S_0, K, r, q, T, sigma):\n",
    "    d1 = (np.log(S_0/K) + (r - q + 0.5*(sigma**2)) * T) / (sigma*np.sqrt(T))\n",
    "    N_d1 = spstats.norm.cdf(d1,0,1)\n",
    "    \n",
    "    return S_0*np.exp(-q*T)*N_d1*np.sqrt(T)\n",
    "\n",
    "# Newton estimation\n",
    "def Newton(S_0, K, r, q, T, sigma, C_m):\n",
    "    fnVal = fn(S_0, K, r, q, T, sigma, C_m)\n",
    "    vegaVal = vegaFunc(S_0, K, r, q, T, sigma)\n",
    "    \n",
    "    return sigma - (fnVal/vegaVal)\n",
    "\n",
    "# Estimating with tolerance\n",
    "def tolCheck(S_0, K, r, q, T, sigma, C_m, tol):\n",
    "    k=0\n",
    "    prev = Newton(S_0, K, r, q, T, sigma, C_m)\n",
    "    \n",
    "    while True:\n",
    "        k+=1\n",
    "        current = Newton(S_0, K, r, q, T, prev, C_m)\n",
    "        if abs(current-prev) > tol:\n",
    "            print(f'Approximation of sigma_{k} is {current}')\n",
    "            prev = current\n",
    "        else:\n",
    "            print(f'Converged at sigma_{k} = {current} and tolerance = {abs(current-prev)} <= {tol}')\n",
    "            break\n",
    "    \n",
    "    \n",
    "    \n",
    "#######################\n",
    "def main():\n",
    "    # Given values\n",
    "    S_0 = 30\n",
    "    K = 30\n",
    "    r = .03\n",
    "    q = .01\n",
    "    T = 6/12\n",
    "    C_m = 2.5\n",
    "    sigma_0 = .5\n",
    "    \n",
    "    # Set tolerance\n",
    "    tol = 10**(-6)\n",
    "\n",
    "    tolCheck(S_0, K, r, q, T, sigma_0, C_m, tol)\n",
    "\n",
    "#######################\n",
    "if __name__ == '__main__':\n",
    "    main()\n"
   ]
  },
  {
   "cell_type": "code",
   "execution_count": null,
   "metadata": {},
   "outputs": [],
   "source": []
  }
 ],
 "metadata": {
  "kernelspec": {
   "display_name": "Python 3",
   "language": "python",
   "name": "python3"
  },
  "language_info": {
   "codemirror_mode": {
    "name": "ipython",
    "version": 3
   },
   "file_extension": ".py",
   "mimetype": "text/x-python",
   "name": "python",
   "nbconvert_exporter": "python",
   "pygments_lexer": "ipython3",
   "version": "3.8.8"
  }
 },
 "nbformat": 4,
 "nbformat_minor": 4
}
