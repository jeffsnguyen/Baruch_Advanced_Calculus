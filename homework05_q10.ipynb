{
 "cells": [
  {
   "cell_type": "markdown",
   "id": "inappropriate-bracelet",
   "metadata": {},
   "source": [
    "# Question 10  \n",
    "  \n",
    "Consider an ATM call option with strike 40 on an asset with volatility 30% and paying 1% dividends continuously. Assume that the interest rates are constant at 3%. Compute the relative approximation error of the approximation.  \n",
    "\n",
    "\\begin{equation}\n",
    " \\begin{aligned}\n",
    "  C_{approx,r \\neq 0, q \\neq 0} =& \\sigma S \\sqrt{\\frac{T}{2\\pi}} \\Big( 1 - \\frac{(r+q)T}{2} \\Big) + \\frac{(r-q)T}{2}S\n",
    " \\end{aligned}\n",
    "\\end{equation}\n",
    "  \n",
    "if the call option expires in 1, 3, 5, 10 and 20 years."
   ]
  },
  {
   "cell_type": "code",
   "execution_count": 2,
   "id": "mature-munich",
   "metadata": {},
   "outputs": [
    {
     "name": "stdout",
     "output_type": "stream",
     "text": [
      "At T=1, epsilon_relative = 0.0027492126298231854\n",
      "At T=3, epsilon_relative = 0.009914060511374606\n",
      "At T=5, epsilon_relative = 0.01775126730052942\n",
      "At T=10, epsilon_relative = 0.037369676230935595\n",
      "At T=20, epsilon_relative = 0.0680668756170866\n"
     ]
    }
   ],
   "source": [
    "import numpy as np\n",
    "import scipy.stats as spstats\n",
    "\n",
    "# Return Call value at time 0 using Black Scholes\n",
    "def callBS(S_0, K, r, q, T, sigma):\n",
    "    d1 = (np.log(S_0/K) + (r - q + 0.5*(sigma**2)) * T) / (sigma*np.sqrt(T))\n",
    "    d2 = d1 - sigma*np.sqrt(T)\n",
    "    N_d1 = spstats.norm.cdf(d1,0,1)\n",
    "    N_d2 = spstats.norm.cdf(d2,0,1)\n",
    "    return np.exp(-r*T) * ((S_0 * np.exp((r-q)*T) * N_d1) - (K * N_d2))\n",
    "\n",
    "def callApprox(S_0, r, q, T, sigma):\n",
    "    return sigma*S_0*np.sqrt(T/(2*np.pi))*(1 - .5*(r+q)*T) + .5*(r-q)*T*S_0\n",
    "\n",
    "def relativeApproxError(S_0, K, r, q, T, sigma):\n",
    "    measured = callApprox(S_0, r, q, T, sigma)\n",
    "    expected = callBS(S_0, K, r, q, T, sigma)\n",
    "    return (measured - expected) / expected\n",
    "\n",
    "#######################\n",
    "S_0 = 40\n",
    "K = 40\n",
    "r = 3/100\n",
    "q = 1/100\n",
    "sigma = .3\n",
    "\n",
    "print(f'At T={1}, epsilon_relative = {relativeApproxError(S_0, K, r, q, 1, sigma)}')\n",
    "print(f'At T={3}, epsilon_relative = {relativeApproxError(S_0, K, r, q, 3, sigma)}')\n",
    "print(f'At T={5}, epsilon_relative = {relativeApproxError(S_0, K, r, q, 5, sigma)}')\n",
    "print(f'At T={10}, epsilon_relative = {relativeApproxError(S_0, K, r, q, 10, sigma)}')\n",
    "print(f'At T={20}, epsilon_relative = {relativeApproxError(S_0, K, r, q, 20, sigma)}')"
   ]
  },
  {
   "cell_type": "code",
   "execution_count": null,
   "id": "academic-hypothesis",
   "metadata": {},
   "outputs": [],
   "source": []
  }
 ],
 "metadata": {
  "kernelspec": {
   "display_name": "Python 3",
   "language": "python",
   "name": "python3"
  },
  "language_info": {
   "codemirror_mode": {
    "name": "ipython",
    "version": 3
   },
   "file_extension": ".py",
   "mimetype": "text/x-python",
   "name": "python",
   "nbconvert_exporter": "python",
   "pygments_lexer": "ipython3",
   "version": "3.8.8"
  }
 },
 "nbformat": 4,
 "nbformat_minor": 5
}
